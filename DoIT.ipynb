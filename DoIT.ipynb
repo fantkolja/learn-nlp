{
 "cells": [
  {
   "cell_type": "code",
   "execution_count": 1,
   "id": "2ecc8723",
   "metadata": {},
   "outputs": [
    {
     "name": "stdout",
     "output_type": "stream",
     "text": [
      "Hello NLP!\n"
     ]
    }
   ],
   "source": [
    "print('Hello NLP!')"
   ]
  },
  {
   "cell_type": "code",
   "execution_count": null,
   "id": "f9f625c2",
   "metadata": {},
   "outputs": [],
   "source": []
  }
 ],
 "metadata": {
  "kernelspec": {
   "display_name": "Python 3 (ipykernel)",
   "language": "python",
   "name": "python3"
  },
  "language_info": {
   "codemirror_mode": {
    "name": "ipython",
    "version": 3
   },
   "file_extension": ".py",
   "mimetype": "text/x-python",
   "name": "python",
   "nbconvert_exporter": "python",
   "pygments_lexer": "ipython3",
   "version": "3.7.16"
  }
 },
 "nbformat": 4,
 "nbformat_minor": 5
}
