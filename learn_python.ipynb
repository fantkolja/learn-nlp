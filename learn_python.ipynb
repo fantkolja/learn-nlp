{
 "cells": [
  {
   "cell_type": "markdown",
   "id": "c206b4e8",
   "metadata": {},
   "source": [
    "## Work with strings"
   ]
  },
  {
   "cell_type": "code",
   "execution_count": 3,
   "id": "2ecc8723",
   "metadata": {},
   "outputs": [],
   "source": [
    "person = \"Mykola\""
   ]
  },
  {
   "cell_type": "markdown",
   "id": "43fa4205",
   "metadata": {},
   "source": [
    "### Old interpolation"
   ]
  },
  {
   "cell_type": "code",
   "execution_count": 5,
   "id": "a203d9e8",
   "metadata": {},
   "outputs": [
    {
     "name": "stdout",
     "output_type": "stream",
     "text": [
      "my name is Mykola\n"
     ]
    }
   ],
   "source": [
    "print(\"my name is {}\".format(person))"
   ]
  },
  {
   "cell_type": "markdown",
   "id": "0affc6de",
   "metadata": {},
   "source": [
    "### F interpolation"
   ]
  },
  {
   "cell_type": "code",
   "execution_count": 6,
   "id": "1dbde29f",
   "metadata": {},
   "outputs": [
    {
     "name": "stdout",
     "output_type": "stream",
     "text": [
      "my name is Mykola\n"
     ]
    }
   ],
   "source": [
    "print(f\"my name is {person}\")"
   ]
  },
  {
   "cell_type": "markdown",
   "id": "94c69a4b",
   "metadata": {},
   "source": [
    "### Table print "
   ]
  },
  {
   "cell_type": "code",
   "execution_count": 11,
   "id": "24fc8478",
   "metadata": {},
   "outputs": [],
   "source": [
    "books = [('Author', 'Topic', 'Pages'),\n",
    "        ('Twain', 'Tom Sowyer', 123),\n",
    "        ('Feyman', 'Sex', 532),\n",
    "        ('Kant', 'Smart people', 4423)]"
   ]
  },
  {
   "cell_type": "code",
   "execution_count": 12,
   "id": "a1814ccd",
   "metadata": {},
   "outputs": [
    {
     "name": "stdout",
     "output_type": "stream",
     "text": [
      "Author Topic Pages\n",
      "Twain Tom Sowyer 123\n",
      "Feyman Sex 532\n",
      "Kant Smart people 4423\n"
     ]
    }
   ],
   "source": [
    "for author,topic,pages in books:\n",
    "    print(f\"{author} {topic} {pages}\")"
   ]
  },
  {
   "cell_type": "code",
   "execution_count": 15,
   "id": "a72301f4",
   "metadata": {},
   "outputs": [
    {
     "name": "stdout",
     "output_type": "stream",
     "text": [
      "Author     Topic                          Pages     \n",
      "Twain      Tom Sowyer                            123\n",
      "Feyman     Sex                                   532\n",
      "Kant       Smart people                         4423\n"
     ]
    }
   ],
   "source": [
    "for author,topic,pages in books:\n",
    "    print(f\"{author:{10}} {topic:{30}} {pages:{10}}\")"
   ]
  },
  {
   "cell_type": "code",
   "execution_count": 16,
   "id": "e60f9824",
   "metadata": {},
   "outputs": [
    {
     "name": "stdout",
     "output_type": "stream",
     "text": [
      "Author     Topic                               Pages\n",
      "Twain      Tom Sowyer                            123\n",
      "Feyman     Sex                                   532\n",
      "Kant       Smart people                         4423\n"
     ]
    }
   ],
   "source": [
    "for author,topic,pages in books:\n",
    "    print(f\"{author:{10}} {topic:{30}} {pages:>{10}}\")"
   ]
  },
  {
   "cell_type": "code",
   "execution_count": 20,
   "id": "b1cc8455",
   "metadata": {},
   "outputs": [
    {
     "name": "stdout",
     "output_type": "stream",
     "text": [
      "Author     Topic                          .....Pages\n",
      "Twain      Tom Sowyer                     .......123\n",
      "Feyman     Sex                            .......532\n",
      "Kant       Smart people                   ......4423\n"
     ]
    }
   ],
   "source": [
    "for author,topic,pages in books:\n",
    "    print(f\"{author:{10}} {topic:{30}} {pages:.>{10}}\")"
   ]
  },
  {
   "cell_type": "code",
   "execution_count": 21,
   "id": "25299850",
   "metadata": {},
   "outputs": [],
   "source": [
    "from datetime import datetime"
   ]
  },
  {
   "cell_type": "code",
   "execution_count": 23,
   "id": "b07d784a",
   "metadata": {},
   "outputs": [],
   "source": [
    "today = datetime(year=2019,month=2,day=28)"
   ]
  },
  {
   "cell_type": "code",
   "execution_count": 24,
   "id": "99c26957",
   "metadata": {},
   "outputs": [
    {
     "name": "stdout",
     "output_type": "stream",
     "text": [
      "2019-02-28 00:00:00\n"
     ]
    }
   ],
   "source": [
    "print(f\"{today}\")"
   ]
  },
  {
   "cell_type": "markdown",
   "id": "68807219",
   "metadata": {},
   "source": [
    "### Format with [strftime()](https://www.programiz.com/python-programming/datetime/strftime)"
   ]
  },
  {
   "cell_type": "code",
   "execution_count": 25,
   "id": "67ddfb50",
   "metadata": {},
   "outputs": [
    {
     "name": "stdout",
     "output_type": "stream",
     "text": [
      "February\n"
     ]
    }
   ],
   "source": [
    "print(f\"{today:%B}\")"
   ]
  },
  {
   "cell_type": "code",
   "execution_count": 26,
   "id": "c951cb49",
   "metadata": {},
   "outputs": [
    {
     "name": "stdout",
     "output_type": "stream",
     "text": [
      "February 28, 2019\n"
     ]
    }
   ],
   "source": [
    "print(f\"{today:%B %d, %Y}\")"
   ]
  },
  {
   "cell_type": "markdown",
   "id": "537e561f",
   "metadata": {},
   "source": [
    "## Work with files"
   ]
  },
  {
   "cell_type": "code",
   "execution_count": 35,
   "id": "e72b350a",
   "metadata": {},
   "outputs": [
    {
     "name": "stdout",
     "output_type": "stream",
     "text": [
      "Overwriting test.txt\n"
     ]
    }
   ],
   "source": [
    "%%writefile test.txt\n",
    "Learn to use Machine Learning, Spacy, NLTK, SciKit-Learn, Deep Learning, and more to conduct Natural Language Processing.\n",
    "Last updated April 2023"
   ]
  },
  {
   "cell_type": "code",
   "execution_count": 36,
   "id": "1bf7ee54",
   "metadata": {},
   "outputs": [],
   "source": [
    "myfile = open('test.txt')"
   ]
  },
  {
   "cell_type": "code",
   "execution_count": 37,
   "id": "4508dd74",
   "metadata": {},
   "outputs": [
    {
     "data": {
      "text/plain": [
       "'Learn to use Machine Learning, Spacy, NLTK, SciKit-Learn, Deep Learning, and more to conduct Natural Language Processing.\\nLast updated April 2023\\n'"
      ]
     },
     "execution_count": 37,
     "metadata": {},
     "output_type": "execute_result"
    }
   ],
   "source": [
    "myfile.read()"
   ]
  },
  {
   "cell_type": "code",
   "execution_count": 38,
   "id": "7101de86",
   "metadata": {},
   "outputs": [],
   "source": [
    "myfile.close()"
   ]
  }
 ],
 "metadata": {
  "kernelspec": {
   "display_name": "Python 3 (ipykernel)",
   "language": "python",
   "name": "python3"
  },
  "language_info": {
   "codemirror_mode": {
    "name": "ipython",
    "version": 3
   },
   "file_extension": ".py",
   "mimetype": "text/x-python",
   "name": "python",
   "nbconvert_exporter": "python",
   "pygments_lexer": "ipython3",
   "version": "3.7.16"
  }
 },
 "nbformat": 4,
 "nbformat_minor": 5
}
