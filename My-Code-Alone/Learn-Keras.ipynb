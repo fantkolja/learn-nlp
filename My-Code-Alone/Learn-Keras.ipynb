{
 "cells": [
  {
   "cell_type": "code",
   "execution_count": 3,
   "id": "9641e028-a286-45ad-b6ca-589b0d75e085",
   "metadata": {},
   "outputs": [],
   "source": [
    "import numpy as np"
   ]
  },
  {
   "cell_type": "code",
   "execution_count": 4,
   "id": "3e5b8c7d-2de2-45e8-853f-d3d7a25e24c6",
   "metadata": {},
   "outputs": [],
   "source": [
    "from sklearn.datasets import load_iris"
   ]
  },
  {
   "cell_type": "code",
   "execution_count": 5,
   "id": "627ab6d6-8539-4720-912a-65125a25b81a",
   "metadata": {},
   "outputs": [],
   "source": [
    "iris = load_iris()"
   ]
  },
  {
   "cell_type": "code",
   "execution_count": 6,
   "id": "b6ae180b-7d33-4934-877f-7c575ac08f83",
   "metadata": {},
   "outputs": [
    {
     "name": "stdout",
     "output_type": "stream",
     "text": [
      ".. _iris_dataset:\n",
      "\n",
      "Iris plants dataset\n",
      "--------------------\n",
      "\n",
      "**Data Set Characteristics:**\n",
      "\n",
      "    :Number of Instances: 150 (50 in each of three classes)\n",
      "    :Number of Attributes: 4 numeric, predictive attributes and the class\n",
      "    :Attribute Information:\n",
      "        - sepal length in cm\n",
      "        - sepal width in cm\n",
      "        - petal length in cm\n",
      "        - petal width in cm\n",
      "        - class:\n",
      "                - Iris-Setosa\n",
      "                - Iris-Versicolour\n",
      "                - Iris-Virginica\n",
      "                \n",
      "    :Summary Statistics:\n",
      "\n",
      "    ============== ==== ==== ======= ===== ====================\n",
      "                    Min  Max   Mean    SD   Class Correlation\n",
      "    ============== ==== ==== ======= ===== ====================\n",
      "    sepal length:   4.3  7.9   5.84   0.83    0.7826\n",
      "    sepal width:    2.0  4.4   3.05   0.43   -0.4194\n",
      "    petal length:   1.0  6.9   3.76   1.76    0.9490  (high!)\n",
      "    petal width:    0.1  2.5   1.20   0.76    0.9565  (high!)\n",
      "    ============== ==== ==== ======= ===== ====================\n",
      "\n",
      "    :Missing Attribute Values: None\n",
      "    :Class Distribution: 33.3% for each of 3 classes.\n",
      "    :Creator: R.A. Fisher\n",
      "    :Donor: Michael Marshall (MARSHALL%PLU@io.arc.nasa.gov)\n",
      "    :Date: July, 1988\n",
      "\n",
      "The famous Iris database, first used by Sir R.A. Fisher. The dataset is taken\n",
      "from Fisher's paper. Note that it's the same as in R, but not as in the UCI\n",
      "Machine Learning Repository, which has two wrong data points.\n",
      "\n",
      "This is perhaps the best known database to be found in the\n",
      "pattern recognition literature.  Fisher's paper is a classic in the field and\n",
      "is referenced frequently to this day.  (See Duda & Hart, for example.)  The\n",
      "data set contains 3 classes of 50 instances each, where each class refers to a\n",
      "type of iris plant.  One class is linearly separable from the other 2; the\n",
      "latter are NOT linearly separable from each other.\n",
      "\n",
      ".. topic:: References\n",
      "\n",
      "   - Fisher, R.A. \"The use of multiple measurements in taxonomic problems\"\n",
      "     Annual Eugenics, 7, Part II, 179-188 (1936); also in \"Contributions to\n",
      "     Mathematical Statistics\" (John Wiley, NY, 1950).\n",
      "   - Duda, R.O., & Hart, P.E. (1973) Pattern Classification and Scene Analysis.\n",
      "     (Q327.D83) John Wiley & Sons.  ISBN 0-471-22361-1.  See page 218.\n",
      "   - Dasarathy, B.V. (1980) \"Nosing Around the Neighborhood: A New System\n",
      "     Structure and Classification Rule for Recognition in Partially Exposed\n",
      "     Environments\".  IEEE Transactions on Pattern Analysis and Machine\n",
      "     Intelligence, Vol. PAMI-2, No. 1, 67-71.\n",
      "   - Gates, G.W. (1972) \"The Reduced Nearest Neighbor Rule\".  IEEE Transactions\n",
      "     on Information Theory, May 1972, 431-433.\n",
      "   - See also: 1988 MLC Proceedings, 54-64.  Cheeseman et al\"s AUTOCLASS II\n",
      "     conceptual clustering system finds 3 classes in the data.\n",
      "   - Many, many more ...\n"
     ]
    }
   ],
   "source": [
    "print(iris.DESCR)"
   ]
  },
  {
   "cell_type": "code",
   "execution_count": 7,
   "id": "490fcb77-a6bd-4e97-a233-c485a8b68a68",
   "metadata": {},
   "outputs": [],
   "source": [
    "X = iris.data"
   ]
  },
  {
   "cell_type": "code",
   "execution_count": 8,
   "id": "66269dd4-0b13-43ad-b354-6696b018e16b",
   "metadata": {},
   "outputs": [
    {
     "data": {
      "text/plain": [
       "(150, 4)"
      ]
     },
     "execution_count": 8,
     "metadata": {},
     "output_type": "execute_result"
    }
   ],
   "source": [
    "X.shape"
   ]
  },
  {
   "cell_type": "code",
   "execution_count": 9,
   "id": "d719b2a6-dfb5-4a03-b09c-6ee516bee04a",
   "metadata": {},
   "outputs": [],
   "source": [
    "y = iris.target"
   ]
  },
  {
   "cell_type": "code",
   "execution_count": 10,
   "id": "17fec614-6ef3-4afa-abc4-e327c3cded6b",
   "metadata": {},
   "outputs": [],
   "source": [
    "# transforming into a one-hot vectors\n",
    "from keras.utils import to_categorical"
   ]
  },
  {
   "cell_type": "code",
   "execution_count": 11,
   "id": "410c9d9b-d58e-4cf9-ab70-71cc7a7759da",
   "metadata": {},
   "outputs": [],
   "source": [
    "y = to_categorical(y)"
   ]
  },
  {
   "cell_type": "code",
   "execution_count": 13,
   "id": "ca62572f-6ec7-4327-a635-3aa16086679b",
   "metadata": {},
   "outputs": [],
   "source": [
    "from sklearn.model_selection import train_test_split"
   ]
  },
  {
   "cell_type": "code",
   "execution_count": 14,
   "id": "404fa67c-3d21-4bfe-a0f3-c67773de5573",
   "metadata": {},
   "outputs": [],
   "source": [
    "X_train, X_test, y_train, y_test = train_test_split(X, y, test_size=0.33, random_state=23)"
   ]
  },
  {
   "cell_type": "code",
   "execution_count": 15,
   "id": "0768b161-ad3e-4533-9a0b-e13801b58351",
   "metadata": {},
   "outputs": [],
   "source": [
    "from sklearn.preprocessing import MinMaxScaler"
   ]
  },
  {
   "cell_type": "code",
   "execution_count": 18,
   "id": "c19164ae-527f-4359-816b-cde126967f3e",
   "metadata": {},
   "outputs": [
    {
     "data": {
      "text/plain": [
       "array([0.4 , 1.  , 0.04, 0.4 ])"
      ]
     },
     "execution_count": 18,
     "metadata": {},
     "output_type": "execute_result"
    }
   ],
   "source": [
    "# this is what MinMaxScaler does\n",
    "np.array([10,25,1,10])/25"
   ]
  },
  {
   "cell_type": "code",
   "execution_count": 19,
   "id": "129b6301-64f0-4da2-aa9e-2b50d96aec05",
   "metadata": {},
   "outputs": [],
   "source": [
    "scaler_object = MinMaxScaler()"
   ]
  },
  {
   "cell_type": "code",
   "execution_count": 20,
   "id": "c504294b-6c67-4699-aa6e-954f3860f278",
   "metadata": {},
   "outputs": [
    {
     "data": {
      "text/html": [
       "<style>#sk-container-id-1 {color: black;background-color: white;}#sk-container-id-1 pre{padding: 0;}#sk-container-id-1 div.sk-toggleable {background-color: white;}#sk-container-id-1 label.sk-toggleable__label {cursor: pointer;display: block;width: 100%;margin-bottom: 0;padding: 0.3em;box-sizing: border-box;text-align: center;}#sk-container-id-1 label.sk-toggleable__label-arrow:before {content: \"▸\";float: left;margin-right: 0.25em;color: #696969;}#sk-container-id-1 label.sk-toggleable__label-arrow:hover:before {color: black;}#sk-container-id-1 div.sk-estimator:hover label.sk-toggleable__label-arrow:before {color: black;}#sk-container-id-1 div.sk-toggleable__content {max-height: 0;max-width: 0;overflow: hidden;text-align: left;background-color: #f0f8ff;}#sk-container-id-1 div.sk-toggleable__content pre {margin: 0.2em;color: black;border-radius: 0.25em;background-color: #f0f8ff;}#sk-container-id-1 input.sk-toggleable__control:checked~div.sk-toggleable__content {max-height: 200px;max-width: 100%;overflow: auto;}#sk-container-id-1 input.sk-toggleable__control:checked~label.sk-toggleable__label-arrow:before {content: \"▾\";}#sk-container-id-1 div.sk-estimator input.sk-toggleable__control:checked~label.sk-toggleable__label {background-color: #d4ebff;}#sk-container-id-1 div.sk-label input.sk-toggleable__control:checked~label.sk-toggleable__label {background-color: #d4ebff;}#sk-container-id-1 input.sk-hidden--visually {border: 0;clip: rect(1px 1px 1px 1px);clip: rect(1px, 1px, 1px, 1px);height: 1px;margin: -1px;overflow: hidden;padding: 0;position: absolute;width: 1px;}#sk-container-id-1 div.sk-estimator {font-family: monospace;background-color: #f0f8ff;border: 1px dotted black;border-radius: 0.25em;box-sizing: border-box;margin-bottom: 0.5em;}#sk-container-id-1 div.sk-estimator:hover {background-color: #d4ebff;}#sk-container-id-1 div.sk-parallel-item::after {content: \"\";width: 100%;border-bottom: 1px solid gray;flex-grow: 1;}#sk-container-id-1 div.sk-label:hover label.sk-toggleable__label {background-color: #d4ebff;}#sk-container-id-1 div.sk-serial::before {content: \"\";position: absolute;border-left: 1px solid gray;box-sizing: border-box;top: 0;bottom: 0;left: 50%;z-index: 0;}#sk-container-id-1 div.sk-serial {display: flex;flex-direction: column;align-items: center;background-color: white;padding-right: 0.2em;padding-left: 0.2em;position: relative;}#sk-container-id-1 div.sk-item {position: relative;z-index: 1;}#sk-container-id-1 div.sk-parallel {display: flex;align-items: stretch;justify-content: center;background-color: white;position: relative;}#sk-container-id-1 div.sk-item::before, #sk-container-id-1 div.sk-parallel-item::before {content: \"\";position: absolute;border-left: 1px solid gray;box-sizing: border-box;top: 0;bottom: 0;left: 50%;z-index: -1;}#sk-container-id-1 div.sk-parallel-item {display: flex;flex-direction: column;z-index: 1;position: relative;background-color: white;}#sk-container-id-1 div.sk-parallel-item:first-child::after {align-self: flex-end;width: 50%;}#sk-container-id-1 div.sk-parallel-item:last-child::after {align-self: flex-start;width: 50%;}#sk-container-id-1 div.sk-parallel-item:only-child::after {width: 0;}#sk-container-id-1 div.sk-dashed-wrapped {border: 1px dashed gray;margin: 0 0.4em 0.5em 0.4em;box-sizing: border-box;padding-bottom: 0.4em;background-color: white;}#sk-container-id-1 div.sk-label label {font-family: monospace;font-weight: bold;display: inline-block;line-height: 1.2em;}#sk-container-id-1 div.sk-label-container {text-align: center;}#sk-container-id-1 div.sk-container {/* jupyter's `normalize.less` sets `[hidden] { display: none; }` but bootstrap.min.css set `[hidden] { display: none !important; }` so we also need the `!important` here to be able to override the default hidden behavior on the sphinx rendered scikit-learn.org. See: https://github.com/scikit-learn/scikit-learn/issues/21755 */display: inline-block !important;position: relative;}#sk-container-id-1 div.sk-text-repr-fallback {display: none;}</style><div id=\"sk-container-id-1\" class=\"sk-top-container\"><div class=\"sk-text-repr-fallback\"><pre>MinMaxScaler()</pre><b>In a Jupyter environment, please rerun this cell to show the HTML representation or trust the notebook. <br />On GitHub, the HTML representation is unable to render, please try loading this page with nbviewer.org.</b></div><div class=\"sk-container\" hidden><div class=\"sk-item\"><div class=\"sk-estimator sk-toggleable\"><input class=\"sk-toggleable__control sk-hidden--visually\" id=\"sk-estimator-id-1\" type=\"checkbox\" checked><label for=\"sk-estimator-id-1\" class=\"sk-toggleable__label sk-toggleable__label-arrow\">MinMaxScaler</label><div class=\"sk-toggleable__content\"><pre>MinMaxScaler()</pre></div></div></div></div></div>"
      ],
      "text/plain": [
       "MinMaxScaler()"
      ]
     },
     "execution_count": 20,
     "metadata": {},
     "output_type": "execute_result"
    }
   ],
   "source": [
    "scaler_object.fit(X_train)"
   ]
  },
  {
   "cell_type": "code",
   "execution_count": 21,
   "id": "e1c2ec9c-8482-4fe0-b296-ae656a51b038",
   "metadata": {},
   "outputs": [],
   "source": [
    "scaled_X_train = scaler_object.transform(X_train)"
   ]
  },
  {
   "cell_type": "code",
   "execution_count": 22,
   "id": "011c5b55-ffa7-4e1c-8065-12a3cdccbf24",
   "metadata": {},
   "outputs": [],
   "source": [
    "scaled_X_test = scaler_object.transform(X_test)"
   ]
  },
  {
   "cell_type": "code",
   "execution_count": 25,
   "id": "d01a01ac-d4e5-4ba5-a77b-ff6ac176d6ca",
   "metadata": {},
   "outputs": [],
   "source": [
    "from keras.models import Sequential\n",
    "from keras.layers import Dense"
   ]
  },
  {
   "cell_type": "code",
   "execution_count": 27,
   "id": "6f098651-ea1d-4fe7-8682-e72a636fe5c5",
   "metadata": {},
   "outputs": [],
   "source": [
    "model = Sequential()\n",
    "model.add(Dense(8, input_dim=4, activation='relu'))\n",
    "model.add(Dense(8, input_dim=4, activation='relu'))\n",
    "model.add(Dense(3, activation='softmax')) # sample output [0.2, 0.3, 0.5]\n",
    "model.compile(loss='categorical_crossentropy', optimizer='adam', metrics=['accuracy'])"
   ]
  },
  {
   "cell_type": "code",
   "execution_count": 28,
   "id": "fe026152-9364-4d53-84bd-0edfa3063892",
   "metadata": {},
   "outputs": [
    {
     "name": "stdout",
     "output_type": "stream",
     "text": [
      "Model: \"sequential_1\"\n",
      "_________________________________________________________________\n",
      " Layer (type)                Output Shape              Param #   \n",
      "=================================================================\n",
      " dense_3 (Dense)             (None, 8)                 40        \n",
      "                                                                 \n",
      " dense_4 (Dense)             (None, 8)                 72        \n",
      "                                                                 \n",
      " dense_5 (Dense)             (None, 3)                 27        \n",
      "                                                                 \n",
      "=================================================================\n",
      "Total params: 139\n",
      "Trainable params: 139\n",
      "Non-trainable params: 0\n",
      "_________________________________________________________________\n"
     ]
    }
   ],
   "source": [
    "model.summary()"
   ]
  },
  {
   "cell_type": "code",
   "execution_count": 29,
   "id": "38cd242e-9a82-41e1-8249-adf2644dc013",
   "metadata": {},
   "outputs": [
    {
     "name": "stdout",
     "output_type": "stream",
     "text": [
      "Epoch 1/150\n",
      "4/4 - 1s - loss: 1.0906 - accuracy: 0.3400 - 852ms/epoch - 213ms/step\n",
      "Epoch 2/150\n",
      "4/4 - 0s - loss: 1.0865 - accuracy: 0.3400 - 5ms/epoch - 1ms/step\n",
      "Epoch 3/150\n",
      "4/4 - 0s - loss: 1.0827 - accuracy: 0.3400 - 5ms/epoch - 1ms/step\n",
      "Epoch 4/150\n",
      "4/4 - 0s - loss: 1.0788 - accuracy: 0.3400 - 5ms/epoch - 1ms/step\n",
      "Epoch 5/150\n",
      "4/4 - 0s - loss: 1.0751 - accuracy: 0.3400 - 6ms/epoch - 2ms/step\n",
      "Epoch 6/150\n",
      "4/4 - 0s - loss: 1.0713 - accuracy: 0.3400 - 6ms/epoch - 1ms/step\n",
      "Epoch 7/150\n",
      "4/4 - 0s - loss: 1.0675 - accuracy: 0.3400 - 6ms/epoch - 2ms/step\n",
      "Epoch 8/150\n",
      "4/4 - 0s - loss: 1.0637 - accuracy: 0.3400 - 6ms/epoch - 2ms/step\n",
      "Epoch 9/150\n",
      "4/4 - 0s - loss: 1.0602 - accuracy: 0.3400 - 6ms/epoch - 2ms/step\n",
      "Epoch 10/150\n",
      "4/4 - 0s - loss: 1.0563 - accuracy: 0.3400 - 6ms/epoch - 2ms/step\n",
      "Epoch 11/150\n",
      "4/4 - 0s - loss: 1.0525 - accuracy: 0.3400 - 6ms/epoch - 2ms/step\n",
      "Epoch 12/150\n",
      "4/4 - 0s - loss: 1.0491 - accuracy: 0.3400 - 6ms/epoch - 1ms/step\n",
      "Epoch 13/150\n",
      "4/4 - 0s - loss: 1.0452 - accuracy: 0.3400 - 6ms/epoch - 2ms/step\n",
      "Epoch 14/150\n",
      "4/4 - 0s - loss: 1.0416 - accuracy: 0.3400 - 6ms/epoch - 2ms/step\n",
      "Epoch 15/150\n",
      "4/4 - 0s - loss: 1.0379 - accuracy: 0.3400 - 6ms/epoch - 2ms/step\n",
      "Epoch 16/150\n",
      "4/4 - 0s - loss: 1.0343 - accuracy: 0.3400 - 6ms/epoch - 1ms/step\n",
      "Epoch 17/150\n",
      "4/4 - 0s - loss: 1.0305 - accuracy: 0.3400 - 6ms/epoch - 1ms/step\n",
      "Epoch 18/150\n",
      "4/4 - 0s - loss: 1.0269 - accuracy: 0.3400 - 7ms/epoch - 2ms/step\n",
      "Epoch 19/150\n",
      "4/4 - 0s - loss: 1.0232 - accuracy: 0.3400 - 6ms/epoch - 2ms/step\n",
      "Epoch 20/150\n",
      "4/4 - 0s - loss: 1.0195 - accuracy: 0.3400 - 6ms/epoch - 1ms/step\n",
      "Epoch 21/150\n",
      "4/4 - 0s - loss: 1.0159 - accuracy: 0.3400 - 7ms/epoch - 2ms/step\n",
      "Epoch 22/150\n",
      "4/4 - 0s - loss: 1.0123 - accuracy: 0.3400 - 6ms/epoch - 2ms/step\n",
      "Epoch 23/150\n",
      "4/4 - 0s - loss: 1.0083 - accuracy: 0.3400 - 7ms/epoch - 2ms/step\n",
      "Epoch 24/150\n",
      "4/4 - 0s - loss: 1.0042 - accuracy: 0.3400 - 6ms/epoch - 1ms/step\n",
      "Epoch 25/150\n",
      "4/4 - 0s - loss: 1.0000 - accuracy: 0.3500 - 6ms/epoch - 1ms/step\n",
      "Epoch 26/150\n",
      "4/4 - 0s - loss: 0.9958 - accuracy: 0.3700 - 6ms/epoch - 2ms/step\n",
      "Epoch 27/150\n",
      "4/4 - 0s - loss: 0.9913 - accuracy: 0.3800 - 6ms/epoch - 1ms/step\n",
      "Epoch 28/150\n",
      "4/4 - 0s - loss: 0.9865 - accuracy: 0.3900 - 6ms/epoch - 2ms/step\n",
      "Epoch 29/150\n",
      "4/4 - 0s - loss: 0.9816 - accuracy: 0.4000 - 6ms/epoch - 1ms/step\n",
      "Epoch 30/150\n",
      "4/4 - 0s - loss: 0.9765 - accuracy: 0.4100 - 7ms/epoch - 2ms/step\n",
      "Epoch 31/150\n",
      "4/4 - 0s - loss: 0.9713 - accuracy: 0.4300 - 5ms/epoch - 1ms/step\n",
      "Epoch 32/150\n",
      "4/4 - 0s - loss: 0.9661 - accuracy: 0.4500 - 7ms/epoch - 2ms/step\n",
      "Epoch 33/150\n",
      "4/4 - 0s - loss: 0.9608 - accuracy: 0.4700 - 6ms/epoch - 1ms/step\n",
      "Epoch 34/150\n",
      "4/4 - 0s - loss: 0.9553 - accuracy: 0.5300 - 8ms/epoch - 2ms/step\n",
      "Epoch 35/150\n",
      "4/4 - 0s - loss: 0.9502 - accuracy: 0.5900 - 6ms/epoch - 1ms/step\n",
      "Epoch 36/150\n",
      "4/4 - 0s - loss: 0.9448 - accuracy: 0.6300 - 6ms/epoch - 2ms/step\n",
      "Epoch 37/150\n",
      "4/4 - 0s - loss: 0.9393 - accuracy: 0.6400 - 5ms/epoch - 1ms/step\n",
      "Epoch 38/150\n",
      "4/4 - 0s - loss: 0.9337 - accuracy: 0.6400 - 7ms/epoch - 2ms/step\n",
      "Epoch 39/150\n",
      "4/4 - 0s - loss: 0.9284 - accuracy: 0.6400 - 5ms/epoch - 1ms/step\n",
      "Epoch 40/150\n",
      "4/4 - 0s - loss: 0.9230 - accuracy: 0.6500 - 6ms/epoch - 1ms/step\n",
      "Epoch 41/150\n",
      "4/4 - 0s - loss: 0.9178 - accuracy: 0.6500 - 5ms/epoch - 1ms/step\n",
      "Epoch 42/150\n",
      "4/4 - 0s - loss: 0.9125 - accuracy: 0.6500 - 6ms/epoch - 1ms/step\n",
      "Epoch 43/150\n",
      "4/4 - 0s - loss: 0.9073 - accuracy: 0.6500 - 6ms/epoch - 1ms/step\n",
      "Epoch 44/150\n",
      "4/4 - 0s - loss: 0.9020 - accuracy: 0.6500 - 6ms/epoch - 1ms/step\n",
      "Epoch 45/150\n",
      "4/4 - 0s - loss: 0.8968 - accuracy: 0.6500 - 5ms/epoch - 1ms/step\n",
      "Epoch 46/150\n",
      "4/4 - 0s - loss: 0.8916 - accuracy: 0.6500 - 6ms/epoch - 1ms/step\n",
      "Epoch 47/150\n",
      "4/4 - 0s - loss: 0.8867 - accuracy: 0.6500 - 6ms/epoch - 2ms/step\n",
      "Epoch 48/150\n",
      "4/4 - 0s - loss: 0.8818 - accuracy: 0.6500 - 17ms/epoch - 4ms/step\n",
      "Epoch 49/150\n",
      "4/4 - 0s - loss: 0.8770 - accuracy: 0.6500 - 8ms/epoch - 2ms/step\n",
      "Epoch 50/150\n",
      "4/4 - 0s - loss: 0.8721 - accuracy: 0.6500 - 6ms/epoch - 1ms/step\n",
      "Epoch 51/150\n",
      "4/4 - 0s - loss: 0.8670 - accuracy: 0.6500 - 6ms/epoch - 1ms/step\n",
      "Epoch 52/150\n",
      "4/4 - 0s - loss: 0.8622 - accuracy: 0.6500 - 5ms/epoch - 1ms/step\n",
      "Epoch 53/150\n",
      "4/4 - 0s - loss: 0.8571 - accuracy: 0.6500 - 6ms/epoch - 1ms/step\n",
      "Epoch 54/150\n",
      "4/4 - 0s - loss: 0.8520 - accuracy: 0.6500 - 6ms/epoch - 1ms/step\n",
      "Epoch 55/150\n",
      "4/4 - 0s - loss: 0.8471 - accuracy: 0.6500 - 6ms/epoch - 1ms/step\n",
      "Epoch 56/150\n",
      "4/4 - 0s - loss: 0.8423 - accuracy: 0.6500 - 6ms/epoch - 1ms/step\n",
      "Epoch 57/150\n",
      "4/4 - 0s - loss: 0.8379 - accuracy: 0.6500 - 6ms/epoch - 1ms/step\n",
      "Epoch 58/150\n",
      "4/4 - 0s - loss: 0.8330 - accuracy: 0.6500 - 7ms/epoch - 2ms/step\n",
      "Epoch 59/150\n",
      "4/4 - 0s - loss: 0.8280 - accuracy: 0.6500 - 6ms/epoch - 2ms/step\n",
      "Epoch 60/150\n",
      "4/4 - 0s - loss: 0.8233 - accuracy: 0.6500 - 6ms/epoch - 1ms/step\n",
      "Epoch 61/150\n",
      "4/4 - 0s - loss: 0.8179 - accuracy: 0.6500 - 5ms/epoch - 1ms/step\n",
      "Epoch 62/150\n",
      "4/4 - 0s - loss: 0.8128 - accuracy: 0.6500 - 6ms/epoch - 1ms/step\n",
      "Epoch 63/150\n",
      "4/4 - 0s - loss: 0.8079 - accuracy: 0.6500 - 5ms/epoch - 1ms/step\n",
      "Epoch 64/150\n",
      "4/4 - 0s - loss: 0.8029 - accuracy: 0.6500 - 6ms/epoch - 1ms/step\n",
      "Epoch 65/150\n",
      "4/4 - 0s - loss: 0.7979 - accuracy: 0.6500 - 5ms/epoch - 1ms/step\n",
      "Epoch 66/150\n",
      "4/4 - 0s - loss: 0.7926 - accuracy: 0.6500 - 6ms/epoch - 1ms/step\n",
      "Epoch 67/150\n",
      "4/4 - 0s - loss: 0.7876 - accuracy: 0.6500 - 6ms/epoch - 1ms/step\n",
      "Epoch 68/150\n",
      "4/4 - 0s - loss: 0.7824 - accuracy: 0.6500 - 6ms/epoch - 1ms/step\n",
      "Epoch 69/150\n",
      "4/4 - 0s - loss: 0.7773 - accuracy: 0.6500 - 6ms/epoch - 1ms/step\n",
      "Epoch 70/150\n",
      "4/4 - 0s - loss: 0.7721 - accuracy: 0.6500 - 6ms/epoch - 1ms/step\n",
      "Epoch 71/150\n",
      "4/4 - 0s - loss: 0.7670 - accuracy: 0.6500 - 6ms/epoch - 2ms/step\n",
      "Epoch 72/150\n",
      "4/4 - 0s - loss: 0.7619 - accuracy: 0.6500 - 6ms/epoch - 1ms/step\n",
      "Epoch 73/150\n",
      "4/4 - 0s - loss: 0.7569 - accuracy: 0.6500 - 6ms/epoch - 2ms/step\n",
      "Epoch 74/150\n",
      "4/4 - 0s - loss: 0.7519 - accuracy: 0.6500 - 6ms/epoch - 1ms/step\n",
      "Epoch 75/150\n",
      "4/4 - 0s - loss: 0.7468 - accuracy: 0.6500 - 6ms/epoch - 2ms/step\n",
      "Epoch 76/150\n",
      "4/4 - 0s - loss: 0.7420 - accuracy: 0.6500 - 5ms/epoch - 1ms/step\n",
      "Epoch 77/150\n",
      "4/4 - 0s - loss: 0.7371 - accuracy: 0.6500 - 5ms/epoch - 1ms/step\n",
      "Epoch 78/150\n",
      "4/4 - 0s - loss: 0.7319 - accuracy: 0.6500 - 5ms/epoch - 1ms/step\n",
      "Epoch 79/150\n",
      "4/4 - 0s - loss: 0.7270 - accuracy: 0.6500 - 6ms/epoch - 1ms/step\n",
      "Epoch 80/150\n",
      "4/4 - 0s - loss: 0.7226 - accuracy: 0.6500 - 6ms/epoch - 2ms/step\n",
      "Epoch 81/150\n",
      "4/4 - 0s - loss: 0.7183 - accuracy: 0.6500 - 6ms/epoch - 1ms/step\n",
      "Epoch 82/150\n",
      "4/4 - 0s - loss: 0.7131 - accuracy: 0.6500 - 6ms/epoch - 1ms/step\n",
      "Epoch 83/150\n",
      "4/4 - 0s - loss: 0.7089 - accuracy: 0.6500 - 6ms/epoch - 1ms/step\n",
      "Epoch 84/150\n",
      "4/4 - 0s - loss: 0.7048 - accuracy: 0.6500 - 6ms/epoch - 1ms/step\n",
      "Epoch 85/150\n",
      "4/4 - 0s - loss: 0.7003 - accuracy: 0.6500 - 5ms/epoch - 1ms/step\n",
      "Epoch 86/150\n",
      "4/4 - 0s - loss: 0.6955 - accuracy: 0.6500 - 5ms/epoch - 1ms/step\n",
      "Epoch 87/150\n",
      "4/4 - 0s - loss: 0.6911 - accuracy: 0.6500 - 5ms/epoch - 1ms/step\n",
      "Epoch 88/150\n",
      "4/4 - 0s - loss: 0.6866 - accuracy: 0.6500 - 6ms/epoch - 1ms/step\n",
      "Epoch 89/150\n",
      "4/4 - 0s - loss: 0.6823 - accuracy: 0.6500 - 6ms/epoch - 1ms/step\n",
      "Epoch 90/150\n",
      "4/4 - 0s - loss: 0.6775 - accuracy: 0.6500 - 6ms/epoch - 1ms/step\n",
      "Epoch 91/150\n",
      "4/4 - 0s - loss: 0.6731 - accuracy: 0.6500 - 6ms/epoch - 1ms/step\n",
      "Epoch 92/150\n",
      "4/4 - 0s - loss: 0.6687 - accuracy: 0.6500 - 6ms/epoch - 1ms/step\n",
      "Epoch 93/150\n",
      "4/4 - 0s - loss: 0.6641 - accuracy: 0.6500 - 6ms/epoch - 2ms/step\n",
      "Epoch 94/150\n",
      "4/4 - 0s - loss: 0.6600 - accuracy: 0.6500 - 6ms/epoch - 1ms/step\n",
      "Epoch 95/150\n",
      "4/4 - 0s - loss: 0.6556 - accuracy: 0.6500 - 6ms/epoch - 1ms/step\n",
      "Epoch 96/150\n",
      "4/4 - 0s - loss: 0.6507 - accuracy: 0.6500 - 5ms/epoch - 1ms/step\n",
      "Epoch 97/150\n",
      "4/4 - 0s - loss: 0.6467 - accuracy: 0.6500 - 19ms/epoch - 5ms/step\n",
      "Epoch 98/150\n",
      "4/4 - 0s - loss: 0.6421 - accuracy: 0.6500 - 7ms/epoch - 2ms/step\n",
      "Epoch 99/150\n",
      "4/4 - 0s - loss: 0.6374 - accuracy: 0.6500 - 6ms/epoch - 1ms/step\n",
      "Epoch 100/150\n",
      "4/4 - 0s - loss: 0.6333 - accuracy: 0.6500 - 8ms/epoch - 2ms/step\n",
      "Epoch 101/150\n",
      "4/4 - 0s - loss: 0.6296 - accuracy: 0.6500 - 6ms/epoch - 1ms/step\n",
      "Epoch 102/150\n",
      "4/4 - 0s - loss: 0.6255 - accuracy: 0.6500 - 6ms/epoch - 1ms/step\n",
      "Epoch 103/150\n",
      "4/4 - 0s - loss: 0.6218 - accuracy: 0.6500 - 5ms/epoch - 1ms/step\n",
      "Epoch 104/150\n",
      "4/4 - 0s - loss: 0.6178 - accuracy: 0.6500 - 6ms/epoch - 1ms/step\n",
      "Epoch 105/150\n",
      "4/4 - 0s - loss: 0.6140 - accuracy: 0.6500 - 6ms/epoch - 1ms/step\n",
      "Epoch 106/150\n",
      "4/4 - 0s - loss: 0.6103 - accuracy: 0.6500 - 6ms/epoch - 1ms/step\n",
      "Epoch 107/150\n",
      "4/4 - 0s - loss: 0.6066 - accuracy: 0.6500 - 5ms/epoch - 1ms/step\n",
      "Epoch 108/150\n",
      "4/4 - 0s - loss: 0.6030 - accuracy: 0.6500 - 5ms/epoch - 1ms/step\n",
      "Epoch 109/150\n",
      "4/4 - 0s - loss: 0.5994 - accuracy: 0.6500 - 7ms/epoch - 2ms/step\n",
      "Epoch 110/150\n",
      "4/4 - 0s - loss: 0.5954 - accuracy: 0.6500 - 6ms/epoch - 1ms/step\n",
      "Epoch 111/150\n",
      "4/4 - 0s - loss: 0.5918 - accuracy: 0.6500 - 6ms/epoch - 2ms/step\n",
      "Epoch 112/150\n",
      "4/4 - 0s - loss: 0.5880 - accuracy: 0.6500 - 5ms/epoch - 1ms/step\n",
      "Epoch 113/150\n",
      "4/4 - 0s - loss: 0.5844 - accuracy: 0.6500 - 7ms/epoch - 2ms/step\n",
      "Epoch 114/150\n",
      "4/4 - 0s - loss: 0.5813 - accuracy: 0.6500 - 6ms/epoch - 1ms/step\n",
      "Epoch 115/150\n",
      "4/4 - 0s - loss: 0.5776 - accuracy: 0.6500 - 7ms/epoch - 2ms/step\n",
      "Epoch 116/150\n",
      "4/4 - 0s - loss: 0.5743 - accuracy: 0.6500 - 5ms/epoch - 1ms/step\n",
      "Epoch 117/150\n",
      "4/4 - 0s - loss: 0.5706 - accuracy: 0.6500 - 7ms/epoch - 2ms/step\n",
      "Epoch 118/150\n",
      "4/4 - 0s - loss: 0.5670 - accuracy: 0.6600 - 5ms/epoch - 1ms/step\n",
      "Epoch 119/150\n",
      "4/4 - 0s - loss: 0.5639 - accuracy: 0.6800 - 6ms/epoch - 2ms/step\n",
      "Epoch 120/150\n",
      "4/4 - 0s - loss: 0.5603 - accuracy: 0.6800 - 6ms/epoch - 1ms/step\n",
      "Epoch 121/150\n",
      "4/4 - 0s - loss: 0.5573 - accuracy: 0.6600 - 6ms/epoch - 1ms/step\n",
      "Epoch 122/150\n",
      "4/4 - 0s - loss: 0.5541 - accuracy: 0.6600 - 6ms/epoch - 1ms/step\n",
      "Epoch 123/150\n",
      "4/4 - 0s - loss: 0.5511 - accuracy: 0.6600 - 6ms/epoch - 1ms/step\n",
      "Epoch 124/150\n",
      "4/4 - 0s - loss: 0.5479 - accuracy: 0.6900 - 6ms/epoch - 1ms/step\n",
      "Epoch 125/150\n",
      "4/4 - 0s - loss: 0.5450 - accuracy: 0.7000 - 5ms/epoch - 1ms/step\n",
      "Epoch 126/150\n",
      "4/4 - 0s - loss: 0.5418 - accuracy: 0.7000 - 6ms/epoch - 2ms/step\n",
      "Epoch 127/150\n",
      "4/4 - 0s - loss: 0.5388 - accuracy: 0.7000 - 5ms/epoch - 1ms/step\n",
      "Epoch 128/150\n",
      "4/4 - 0s - loss: 0.5357 - accuracy: 0.7000 - 6ms/epoch - 1ms/step\n",
      "Epoch 129/150\n",
      "4/4 - 0s - loss: 0.5329 - accuracy: 0.7000 - 5ms/epoch - 1ms/step\n",
      "Epoch 130/150\n",
      "4/4 - 0s - loss: 0.5302 - accuracy: 0.7100 - 6ms/epoch - 2ms/step\n",
      "Epoch 131/150\n",
      "4/4 - 0s - loss: 0.5275 - accuracy: 0.7000 - 5ms/epoch - 1ms/step\n",
      "Epoch 132/150\n",
      "4/4 - 0s - loss: 0.5246 - accuracy: 0.7000 - 6ms/epoch - 1ms/step\n",
      "Epoch 133/150\n",
      "4/4 - 0s - loss: 0.5221 - accuracy: 0.7300 - 6ms/epoch - 1ms/step\n",
      "Epoch 134/150\n",
      "4/4 - 0s - loss: 0.5193 - accuracy: 0.7400 - 6ms/epoch - 1ms/step\n",
      "Epoch 135/150\n",
      "4/4 - 0s - loss: 0.5167 - accuracy: 0.7600 - 6ms/epoch - 1ms/step\n",
      "Epoch 136/150\n",
      "4/4 - 0s - loss: 0.5143 - accuracy: 0.8000 - 6ms/epoch - 1ms/step\n",
      "Epoch 137/150\n",
      "4/4 - 0s - loss: 0.5117 - accuracy: 0.8100 - 6ms/epoch - 1ms/step\n",
      "Epoch 138/150\n",
      "4/4 - 0s - loss: 0.5091 - accuracy: 0.8100 - 5ms/epoch - 1ms/step\n",
      "Epoch 139/150\n",
      "4/4 - 0s - loss: 0.5066 - accuracy: 0.8300 - 6ms/epoch - 1ms/step\n",
      "Epoch 140/150\n",
      "4/4 - 0s - loss: 0.5045 - accuracy: 0.8500 - 5ms/epoch - 1ms/step\n",
      "Epoch 141/150\n",
      "4/4 - 0s - loss: 0.5021 - accuracy: 0.8900 - 5ms/epoch - 1ms/step\n",
      "Epoch 142/150\n",
      "4/4 - 0s - loss: 0.4999 - accuracy: 0.9000 - 5ms/epoch - 1ms/step\n",
      "Epoch 143/150\n",
      "4/4 - 0s - loss: 0.4976 - accuracy: 0.9100 - 6ms/epoch - 2ms/step\n",
      "Epoch 144/150\n",
      "4/4 - 0s - loss: 0.4944 - accuracy: 0.8900 - 6ms/epoch - 1ms/step\n",
      "Epoch 145/150\n",
      "4/4 - 0s - loss: 0.4917 - accuracy: 0.8600 - 6ms/epoch - 1ms/step\n",
      "Epoch 146/150\n",
      "4/4 - 0s - loss: 0.4893 - accuracy: 0.8400 - 5ms/epoch - 1ms/step\n",
      "Epoch 147/150\n",
      "4/4 - 0s - loss: 0.4866 - accuracy: 0.8100 - 5ms/epoch - 1ms/step\n",
      "Epoch 148/150\n",
      "4/4 - 0s - loss: 0.4845 - accuracy: 0.7800 - 6ms/epoch - 1ms/step\n",
      "Epoch 149/150\n",
      "4/4 - 0s - loss: 0.4822 - accuracy: 0.8000 - 6ms/epoch - 1ms/step\n",
      "Epoch 150/150\n",
      "4/4 - 0s - loss: 0.4802 - accuracy: 0.8300 - 5ms/epoch - 1ms/step\n"
     ]
    },
    {
     "data": {
      "text/plain": [
       "<keras.callbacks.History at 0x7f92da7d3d30>"
      ]
     },
     "execution_count": 29,
     "metadata": {},
     "output_type": "execute_result"
    }
   ],
   "source": [
    "model.fit(scaled_X_train, y_train, epochs=150, verbose=2)"
   ]
  },
  {
   "cell_type": "code",
   "execution_count": 34,
   "id": "d75f6c84-ca4a-401b-a25f-5d08b63337a8",
   "metadata": {},
   "outputs": [
    {
     "name": "stdout",
     "output_type": "stream",
     "text": [
      "2/2 [==============================] - 0s 2ms/step\n"
     ]
    }
   ],
   "source": [
    "prob_predictions = model.predict(scaled_X_test)"
   ]
  },
  {
   "cell_type": "code",
   "execution_count": 35,
   "id": "ec4bc1c7-232b-4b03-b79b-963829175853",
   "metadata": {},
   "outputs": [],
   "source": [
    "predictions = np.argmax(prob_predictions, axis=1)"
   ]
  },
  {
   "cell_type": "code",
   "execution_count": 37,
   "id": "3a0589a5-a175-45d3-9bbd-67210665675d",
   "metadata": {},
   "outputs": [
    {
     "data": {
      "text/plain": [
       "array([ True,  True,  True,  True,  True, False,  True,  True,  True,\n",
       "        True,  True,  True,  True,  True,  True,  True, False, False,\n",
       "        True,  True,  True,  True,  True,  True,  True,  True,  True,\n",
       "        True, False,  True,  True,  True,  True,  True,  True,  True,\n",
       "       False,  True,  True,  True,  True,  True,  True,  True, False,\n",
       "        True,  True,  True,  True,  True])"
      ]
     },
     "execution_count": 37,
     "metadata": {},
     "output_type": "execute_result"
    }
   ],
   "source": [
    "y_test.argmax(axis=1) == predictions"
   ]
  },
  {
   "cell_type": "code",
   "execution_count": 38,
   "id": "de3ce3d1-90e0-4ed8-9b94-69b25e4b4eee",
   "metadata": {},
   "outputs": [],
   "source": [
    "from sklearn.metrics import classification_report"
   ]
  },
  {
   "cell_type": "code",
   "execution_count": 40,
   "id": "d421cb5d-9f36-4eb2-a8e6-7a78b4305557",
   "metadata": {},
   "outputs": [
    {
     "name": "stdout",
     "output_type": "stream",
     "text": [
      "              precision    recall  f1-score   support\n",
      "\n",
      "           0       1.00      1.00      1.00        19\n",
      "           1       1.00      0.60      0.75        15\n",
      "           2       0.73      1.00      0.84        16\n",
      "\n",
      "    accuracy                           0.88        50\n",
      "   macro avg       0.91      0.87      0.86        50\n",
      "weighted avg       0.91      0.88      0.87        50\n",
      "\n"
     ]
    }
   ],
   "source": [
    "print(classification_report(y_test.argmax(axis=1), predictions))"
   ]
  },
  {
   "cell_type": "code",
   "execution_count": 41,
   "id": "6d5cb9c7-c6aa-4263-9302-3c95f5cbaf5f",
   "metadata": {},
   "outputs": [],
   "source": [
    "model.save('my_model.h5')"
   ]
  },
  {
   "cell_type": "code",
   "execution_count": 42,
   "id": "c7eae7bc-2477-49f5-a170-fe33fd94d92f",
   "metadata": {},
   "outputs": [],
   "source": [
    "from keras.models import load_model"
   ]
  },
  {
   "cell_type": "code",
   "execution_count": 43,
   "id": "092c8f84-63cb-49f9-9e81-9afdbb401c2d",
   "metadata": {},
   "outputs": [],
   "source": [
    "new_model = load_model('my_model.h5')"
   ]
  },
  {
   "cell_type": "code",
   "execution_count": null,
   "id": "11c1954b-dbcc-4ba9-bff2-8ef1f5a9c643",
   "metadata": {},
   "outputs": [],
   "source": []
  }
 ],
 "metadata": {
  "kernelspec": {
   "display_name": "Python 3 (ipykernel)",
   "language": "python",
   "name": "python3"
  },
  "language_info": {
   "codemirror_mode": {
    "name": "ipython",
    "version": 3
   },
   "file_extension": ".py",
   "mimetype": "text/x-python",
   "name": "python",
   "nbconvert_exporter": "python",
   "pygments_lexer": "ipython3",
   "version": "3.10.13"
  }
 },
 "nbformat": 4,
 "nbformat_minor": 5
}
