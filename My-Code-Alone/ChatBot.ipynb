{
 "cells": [
  {
   "cell_type": "code",
   "execution_count": 1,
   "id": "208cbfb4-9a99-46e7-8ad2-5ae119ce9810",
   "metadata": {},
   "outputs": [],
   "source": [
    "import pickle\n",
    "import numpy as np"
   ]
  },
  {
   "cell_type": "code",
   "execution_count": 2,
   "id": "ada521b5-4125-4c95-8e61-ed11517cd126",
   "metadata": {},
   "outputs": [],
   "source": [
    "with open('../06-Deep-Learning/train_qa.txt', 'rb') as f:\n",
    "    train_data = pickle.load(f)"
   ]
  },
  {
   "cell_type": "code",
   "execution_count": 3,
   "id": "9a81469d-2192-430b-9e12-0b7e9db1ac1a",
   "metadata": {},
   "outputs": [],
   "source": [
    "with open('../06-Deep-Learning/test_qa.txt', 'rb') as f:\n",
    "    test_data = pickle.load(f)"
   ]
  },
  {
   "cell_type": "code",
   "execution_count": 4,
   "id": "86a09920-6919-4ab4-a542-95aac324e7ff",
   "metadata": {},
   "outputs": [
    {
     "data": {
      "text/plain": [
       "10000"
      ]
     },
     "execution_count": 4,
     "metadata": {},
     "output_type": "execute_result"
    }
   ],
   "source": [
    "len(train_data)"
   ]
  },
  {
   "cell_type": "code",
   "execution_count": 5,
   "id": "716b046a-aa57-4d68-8733-4ba27b0c458a",
   "metadata": {},
   "outputs": [
    {
     "data": {
      "text/plain": [
       "1000"
      ]
     },
     "execution_count": 5,
     "metadata": {},
     "output_type": "execute_result"
    }
   ],
   "source": [
    "len(test_data)"
   ]
  },
  {
   "cell_type": "code",
   "execution_count": 8,
   "id": "c6456ce0-4467-4fe6-91bf-e5072d050795",
   "metadata": {},
   "outputs": [
    {
     "data": {
      "text/plain": [
       "'Mary moved to the bathroom . Sandra journeyed to the bedroom .'"
      ]
     },
     "execution_count": 8,
     "metadata": {},
     "output_type": "execute_result"
    }
   ],
   "source": [
    "' '.join(train_data[0][0])"
   ]
  },
  {
   "cell_type": "code",
   "execution_count": 9,
   "id": "9327a2d7-efb2-49c3-ac34-d572d6c3ac7f",
   "metadata": {},
   "outputs": [
    {
     "data": {
      "text/plain": [
       "'Is Sandra in the hallway ?'"
      ]
     },
     "execution_count": 9,
     "metadata": {},
     "output_type": "execute_result"
    }
   ],
   "source": [
    "' '.join(train_data[0][1])"
   ]
  },
  {
   "cell_type": "code",
   "execution_count": 12,
   "id": "08a70ad4-0d3e-4c7e-9f26-c12d6ac81e34",
   "metadata": {},
   "outputs": [
    {
     "data": {
      "text/plain": [
       "'no'"
      ]
     },
     "execution_count": 12,
     "metadata": {},
     "output_type": "execute_result"
    }
   ],
   "source": [
    "train_data[0][2]"
   ]
  },
  {
   "cell_type": "code",
   "execution_count": 13,
   "id": "43392ac4-37d6-45a7-b16c-5f1fd6eb2b05",
   "metadata": {},
   "outputs": [],
   "source": [
    "all_data = test_data + train_data"
   ]
  },
  {
   "cell_type": "code",
   "execution_count": 14,
   "id": "96b3da81-f07e-4907-b756-66ab653ebc01",
   "metadata": {},
   "outputs": [
    {
     "data": {
      "text/plain": [
       "11000"
      ]
     },
     "execution_count": 14,
     "metadata": {},
     "output_type": "execute_result"
    }
   ],
   "source": [
    "len(all_data)"
   ]
  },
  {
   "cell_type": "code",
   "execution_count": 18,
   "id": "57714f3a-8ff8-4a82-b7a9-0200439383fb",
   "metadata": {},
   "outputs": [
    {
     "data": {
      "text/plain": [
       "37"
      ]
     },
     "execution_count": 18,
     "metadata": {},
     "output_type": "execute_result"
    }
   ],
   "source": [
    "vocab = set(['no', 'yes'])\n",
    "\n",
    "for story, question, answer in all_data:\n",
    "    vocab = vocab.union(set(story))\n",
    "    vocab = vocab.union(set(question))\n",
    "\n",
    "len(vocab)"
   ]
  },
  {
   "cell_type": "code",
   "execution_count": 20,
   "id": "bcfa7f3c-27dd-4281-bb18-3bc53eb0b34d",
   "metadata": {},
   "outputs": [],
   "source": [
    "# for padding later on\n",
    "vocab_len = len(vocab) + 1"
   ]
  },
  {
   "cell_type": "code",
   "execution_count": 24,
   "id": "29930bf1-8292-4d26-be84-8a3fa30f088e",
   "metadata": {},
   "outputs": [],
   "source": [
    "# determining the longest story and question\n",
    "all_story_lens = [len(data[0]) for data in all_data]\n",
    "all_question_lens = [len(data[1]) for data in all_data]"
   ]
  },
  {
   "cell_type": "code",
   "execution_count": 26,
   "id": "a2fbd451-a3d9-49f1-beef-a45b954ff200",
   "metadata": {},
   "outputs": [
    {
     "data": {
      "text/plain": [
       "(156, 6)"
      ]
     },
     "execution_count": 26,
     "metadata": {},
     "output_type": "execute_result"
    }
   ],
   "source": [
    "max_story_len = max(all_story_lens)\n",
    "max_question_len = max(all_question_lens)\n",
    "max_story_len, max_question_len"
   ]
  },
  {
   "cell_type": "markdown",
   "id": "74017983-df1a-45cb-8b81-c3c7129930c1",
   "metadata": {},
   "source": [
    "## Data Vectorization"
   ]
  },
  {
   "cell_type": "code",
   "execution_count": 29,
   "id": "93200a19-4172-4816-9b97-2c0c3a0287ab",
   "metadata": {},
   "outputs": [],
   "source": [
    "from keras_preprocessing.sequence import pad_sequences\n",
    "from keras_preprocessing.text import Tokenizer"
   ]
  },
  {
   "cell_type": "code",
   "execution_count": 30,
   "id": "1b5ace59-ed0c-4fe3-a3df-b0734e6378f8",
   "metadata": {},
   "outputs": [],
   "source": [
    "tokenizer = Tokenizer(filters=[])\n",
    "tokenizer.fit_on_texts(vocab)"
   ]
  },
  {
   "cell_type": "code",
   "execution_count": 31,
   "id": "3c638ca1-1604-41ba-888b-c901bee9de0b",
   "metadata": {},
   "outputs": [
    {
     "data": {
      "text/plain": [
       "{'no': 1,\n",
       " 'there': 2,\n",
       " 'daniel': 3,\n",
       " '?': 4,\n",
       " 'garden': 5,\n",
       " 'went': 6,\n",
       " 'the': 7,\n",
       " 'apple': 8,\n",
       " 'back': 9,\n",
       " 'kitchen': 10,\n",
       " '.': 11,\n",
       " 'hallway': 12,\n",
       " 'journeyed': 13,\n",
       " 'office': 14,\n",
       " 'up': 15,\n",
       " 'dropped': 16,\n",
       " 'got': 17,\n",
       " 'milk': 18,\n",
       " 'to': 19,\n",
       " 'discarded': 20,\n",
       " 'left': 21,\n",
       " 'yes': 22,\n",
       " 'in': 23,\n",
       " 'john': 24,\n",
       " 'sandra': 25,\n",
       " 'is': 26,\n",
       " 'mary': 27,\n",
       " 'travelled': 28,\n",
       " 'picked': 29,\n",
       " 'put': 30,\n",
       " 'moved': 31,\n",
       " 'down': 32,\n",
       " 'grabbed': 33,\n",
       " 'football': 34,\n",
       " 'bedroom': 35,\n",
       " 'bathroom': 36,\n",
       " 'took': 37}"
      ]
     },
     "execution_count": 31,
     "metadata": {},
     "output_type": "execute_result"
    }
   ],
   "source": [
    "tokenizer.word_index"
   ]
  },
  {
   "cell_type": "code",
   "execution_count": 34,
   "id": "47dacbdf-dd56-4313-b278-2aed1ac5b68f",
   "metadata": {},
   "outputs": [],
   "source": [
    "train_story_text = []\n",
    "train_question_text = []\n",
    "train_answers = []\n",
    "\n",
    "for story, question, answer in train_data:\n",
    "    train_story_text.append(story)\n",
    "    train_question_text.append(question)\n",
    "    train_answers.append(answer)"
   ]
  },
  {
   "cell_type": "code",
   "execution_count": 35,
   "id": "bc5f6e9e-8a1d-48fd-ad18-991eb8bb03bb",
   "metadata": {},
   "outputs": [],
   "source": [
    "train_story_seq = tokenizer.texts_to_sequences(train_story_text)"
   ]
  },
  {
   "cell_type": "code",
   "execution_count": 36,
   "id": "55566027-796d-4a9e-8b95-efdf889cdb64",
   "metadata": {},
   "outputs": [],
   "source": [
    "def vectorize_stories(data, word_index=tokenizer.word_index, max_story_len=max_story_len, max_question_len=max_question_len):\n",
    "    # STORIES\n",
    "    X = []\n",
    "    # QUESTIONS\n",
    "    Xq = []\n",
    "    # ANSWERS\n",
    "    Y = []\n",
    "\n",
    "    for story, query, answer in data:\n",
    "        x = [word_index[word.lower()] for word in story]\n",
    "        xq = [word_index[word.lower()] for word in query]\n",
    "        y = np.zeros(len(word_index) + 1)\n",
    "        y[word_index[answer]] = 1\n",
    "\n",
    "        X.append(x)\n",
    "        Xq.append(xq)\n",
    "        Y.append(y)\n",
    "\n",
    "    return (pad_sequences(X, maxlen=max_story_len), pad_sequences(Xq, maxlen=max_question_len), np.array(Y))"
   ]
  },
  {
   "cell_type": "code",
   "execution_count": 37,
   "id": "222a74f1-5783-4eda-b6d2-27d6d2ae6c3d",
   "metadata": {},
   "outputs": [],
   "source": [
    "inputs_train, queries_train, answers_train = vectorize_stories(train_data)\n",
    "inputs_test, queries_test, answers_test = vectorize_stories(test_data)"
   ]
  },
  {
   "cell_type": "code",
   "execution_count": null,
   "id": "08075bf1-5b4c-4f91-9ee5-eebf776f6b4f",
   "metadata": {},
   "outputs": [],
   "source": []
  }
 ],
 "metadata": {
  "kernelspec": {
   "display_name": "Python 3 (ipykernel)",
   "language": "python",
   "name": "python3"
  },
  "language_info": {
   "codemirror_mode": {
    "name": "ipython",
    "version": 3
   },
   "file_extension": ".py",
   "mimetype": "text/x-python",
   "name": "python",
   "nbconvert_exporter": "python",
   "pygments_lexer": "ipython3",
   "version": "3.10.13"
  }
 },
 "nbformat": 4,
 "nbformat_minor": 5
}
