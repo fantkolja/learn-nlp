{
 "cells": [
  {
   "cell_type": "markdown",
   "id": "74ce9136-1eac-4a1a-8e82-29bc4738574e",
   "metadata": {},
   "source": [
    "## Spacy Vectors"
   ]
  },
  {
   "cell_type": "code",
   "execution_count": 40,
   "id": "0822300b-5dd8-4e28-8a12-0a7bd8162d5b",
   "metadata": {},
   "outputs": [],
   "source": [
    "import spacy"
   ]
  },
  {
   "cell_type": "code",
   "execution_count": 41,
   "id": "ed411e9b-7ee1-4d72-89ba-5b958b3e1812",
   "metadata": {},
   "outputs": [],
   "source": [
    "nlp = spacy.load('en_core_web_lg')"
   ]
  },
  {
   "cell_type": "code",
   "execution_count": 42,
   "id": "3370cf4d-c144-4ebc-9125-ca4f4b66e704",
   "metadata": {},
   "outputs": [
    {
     "data": {
      "text/plain": [
       "(300,)"
      ]
     },
     "execution_count": 42,
     "metadata": {},
     "output_type": "execute_result"
    }
   ],
   "source": [
    "nlp(u'lion kills a deer').vector.shape"
   ]
  },
  {
   "cell_type": "code",
   "execution_count": 43,
   "id": "0b7aeb00-ec68-45cc-aaba-2e3929c2084a",
   "metadata": {},
   "outputs": [],
   "source": [
    "tokens = nlp(u'css love hate html')"
   ]
  },
  {
   "cell_type": "code",
   "execution_count": 44,
   "id": "4bd281e0-3301-4080-b472-d2d81e358bf5",
   "metadata": {},
   "outputs": [
    {
     "name": "stdout",
     "output_type": "stream",
     "text": [
      "css css 1.0\n",
      "css love -0.03444082289934158\n",
      "css hate 0.008504980243742466\n",
      "css html 0.9298768639564514\n",
      "love css -0.03444082289934158\n",
      "love love 1.0\n",
      "love hate 0.5708349943161011\n",
      "love html -0.02205815725028515\n",
      "hate css 0.008504980243742466\n",
      "hate love 0.5708349943161011\n",
      "hate hate 1.0\n",
      "hate html 0.04499774053692818\n",
      "html css 0.9298768639564514\n",
      "html love -0.02205815725028515\n",
      "html hate 0.04499774053692818\n",
      "html html 1.0\n"
     ]
    }
   ],
   "source": [
    "for token1 in tokens:\n",
    "    for token2 in tokens:\n",
    "        print(token1.text, token2.text, token1.similarity(token2))"
   ]
  },
  {
   "cell_type": "code",
   "execution_count": 64,
   "id": "53603467-8a5a-46de-a3c3-bbf6a370a96a",
   "metadata": {},
   "outputs": [
    {
     "data": {
      "text/plain": [
       "(514157, 300)"
      ]
     },
     "execution_count": 64,
     "metadata": {},
     "output_type": "execute_result"
    }
   ],
   "source": [
    "nlp.vocab.vectors.shape"
   ]
  },
  {
   "cell_type": "code",
   "execution_count": 46,
   "id": "533f1c7c-ea1a-49cc-a0b7-d95cb5c58161",
   "metadata": {},
   "outputs": [],
   "source": [
    "tokens = nlp(u'dog cat asdlkj')"
   ]
  },
  {
   "cell_type": "code",
   "execution_count": 47,
   "id": "260f04e0-e181-4eca-9dbc-8d7b9716b700",
   "metadata": {},
   "outputs": [
    {
     "name": "stdout",
     "output_type": "stream",
     "text": [
      "dog True 75.254234 False\n",
      "cat True 63.188496 False\n",
      "asdlkj False 0.0 True\n"
     ]
    }
   ],
   "source": [
    "for token in tokens:\n",
    "    print(token.text, token.has_vector, token.vector_norm, token.is_oov)"
   ]
  },
  {
   "cell_type": "code",
   "execution_count": 48,
   "id": "66396f95-7eb8-40e3-80c7-c1f104185a2f",
   "metadata": {},
   "outputs": [],
   "source": [
    "from scipy import spatial"
   ]
  },
  {
   "cell_type": "code",
   "execution_count": 49,
   "id": "a98dcf71-7365-42b6-9c36-e8c982ce2322",
   "metadata": {},
   "outputs": [],
   "source": [
    "cosine_similarity = lambda vec1, vec2: 1 - spatial.distance.cosine(vec1, vec2)"
   ]
  },
  {
   "cell_type": "code",
   "execution_count": 59,
   "id": "55781500-df56-42ae-81c3-0af846b932c3",
   "metadata": {},
   "outputs": [],
   "source": [
    "king = nlp.vocab['king'].vector\n",
    "man = nlp.vocab['man'].vector\n",
    "woman = nlp.vocab['woman'].vector\n",
    "queen = nlp.vocab['queen'].vector"
   ]
  },
  {
   "cell_type": "code",
   "execution_count": 60,
   "id": "ff0a45f9-fd4a-4f8c-8339-88c0d2e45956",
   "metadata": {},
   "outputs": [],
   "source": [
    "# king - man + women ===> NEW_VECTOR should be similar to queen\n",
    "new_vector = king - man + woman"
   ]
  },
  {
   "cell_type": "code",
   "execution_count": 66,
   "id": "83b871e5-8201-42d7-8e80-07045cd3d855",
   "metadata": {},
   "outputs": [],
   "source": [
    "computed_similarities = []\n",
    "\n",
    "# iterate over all words and find the most similar\n",
    "for word_string in nlp.vocab.strings:\n",
    "    word = nlp.vocab[word_string]\n",
    "    if word.has_vector:\n",
    "        if word.is_lower:\n",
    "            if word.is_alpha:\n",
    "                similarity = cosine_similarity(new_vector, word.vector)\n",
    "                computed_similarities.append((word.text, similarity))"
   ]
  },
  {
   "cell_type": "code",
   "execution_count": 67,
   "id": "96a64a71-fb76-4e1c-b3f2-741e959e5c99",
   "metadata": {},
   "outputs": [],
   "source": [
    "computed_similarities = sorted(computed_similarities, key=lambda item: -item[1])"
   ]
  },
  {
   "cell_type": "code",
   "execution_count": 68,
   "id": "cee49a55-e288-4206-a5ad-1d1d82e236fc",
   "metadata": {},
   "outputs": [
    {
     "data": {
      "text/plain": [
       "[('king', 0.8489541411399841),\n",
       " ('kings', 0.7189058065414429),\n",
       " ('princes', 0.709700882434845),\n",
       " ('consort', 0.707391083240509),\n",
       " ('princeling', 0.7026306986808777),\n",
       " ('monarch', 0.6899287104606628),\n",
       " ('princelings', 0.687301516532898),\n",
       " ('princesses', 0.6814026832580566),\n",
       " ('prince', 0.6562830209732056),\n",
       " ('kingship', 0.649807333946228)]"
      ]
     },
     "execution_count": 68,
     "metadata": {},
     "output_type": "execute_result"
    }
   ],
   "source": [
    "computed_similarities[:10]"
   ]
  },
  {
   "cell_type": "markdown",
   "id": "c8937639-afe7-412c-89bd-d0e5cd423d31",
   "metadata": {},
   "source": [
    "## NLTK Sentiment (VADER) Analysis"
   ]
  },
  {
   "cell_type": "code",
   "execution_count": null,
   "id": "e315e8aa-6b47-4e02-9fb1-d1bb16f40af7",
   "metadata": {},
   "outputs": [],
   "source": []
  }
 ],
 "metadata": {
  "kernelspec": {
   "display_name": "Python 3 (ipykernel)",
   "language": "python",
   "name": "python3"
  },
  "language_info": {
   "codemirror_mode": {
    "name": "ipython",
    "version": 3
   },
   "file_extension": ".py",
   "mimetype": "text/x-python",
   "name": "python",
   "nbconvert_exporter": "python",
   "pygments_lexer": "ipython3",
   "version": "3.10.9"
  }
 },
 "nbformat": 4,
 "nbformat_minor": 5
}
